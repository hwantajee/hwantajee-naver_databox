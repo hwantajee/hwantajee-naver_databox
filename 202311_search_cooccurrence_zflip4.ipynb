{
 "cells": [
  {
   "cell_type": "code",
   "execution_count": 2,
   "metadata": {},
   "outputs": [],
   "source": [
    "import pandas as pd\n",
    "import seaborn as sns; sns.set()\n",
    "pd.options.display.max_columns=100\n",
    "pd.options.display.max_rows=300\n",
    "import numpy as np"
   ]
  },
  {
   "cell_type": "markdown",
   "metadata": {},
   "source": [
    "### z플립4% 서치클릭코어커런스 데이터 불러오기 및 전처리\n",
    "- 오피셜 런칭 이후 2 주치 데이터: 2022.8-9"
   ]
  },
  {
   "cell_type": "code",
   "execution_count": null,
   "metadata": {},
   "outputs": [],
   "source": [
    "\"\"\"데이터 불러오기\"\"\"\n",
    "data_co=pd.read_csv('/home/ncp/workspace/nasw2/20231129_22y2h_cc_%z플립%.csv',\n",
    "                    names=['age','loc1','loc2','keyword1','area1','keyword2','area2','count','date','device','gender'])"
   ]
  },
  {
   "cell_type": "code",
   "execution_count": null,
   "metadata": {},
   "outputs": [],
   "source": [
    "data_co.head()"
   ]
  },
  {
   "cell_type": "code",
   "execution_count": null,
   "metadata": {},
   "outputs": [],
   "source": [
    "\"\"\"데이터 전처리1\"\"\"\n",
    "data_co.reset_index(inplace=True)\n",
    "data_co=data_co.iloc[:,1:-1]                # 필요 없는 열 삭제\n",
    "data_co.columns=list(data_co.iloc[0,:])     # 컬럼 설정\n",
    "data_co=data_co.iloc[1:,:]                  # 첫번째 행 삭제\n",
    "data_co.reset_index(drop=True, inplace=True)"
   ]
  },
  {
   "cell_type": "code",
   "execution_count": null,
   "metadata": {},
   "outputs": [],
   "source": [
    "data_co.head()"
   ]
  },
  {
   "cell_type": "code",
   "execution_count": null,
   "metadata": {},
   "outputs": [],
   "source": [
    "data_co.columns"
   ]
  },
  {
   "cell_type": "code",
   "execution_count": null,
   "metadata": {},
   "outputs": [],
   "source": [
    "\"\"\"데이터 전처리2\"\"\"\n",
    "data_co.columns = [str(col).strip() for col in data_co.columns] # 컬럼명 앞뒤 공백 삭제\n",
    "for col in data_co.columns:\n",
    "    data_co[col] = data_co[col].apply(lambda x: x.strip() if isinstance(x, str) else x) # 내용 앞뒤 공백 삭제\n",
    "for col in data_co.columns:\n",
    "    data_co.drop(data_co[data_co[col]==col].index, inplace=True)    # 행 내 컬럼명과 동일한 행 삭제\n",
    "data_co.columns = [col.split('.')[1] for col in data_co.columns]    # 컬럼명에 추가된 데이터명 삭제\n",
    "data_co['date'] = pd.to_datetime(data_co['date'], errors='coerce')  # 날짜 형식 변경\n",
    "data_co['count'] = data_co['count'].apply(lambda x: int(x) if isinstance(x, str) and x.isdigit() else np.nan)   # count 변수 (object::int)"
   ]
  },
  {
   "cell_type": "code",
   "execution_count": null,
   "metadata": {},
   "outputs": [],
   "source": [
    "data_co.columns"
   ]
  },
  {
   "cell_type": "code",
   "execution_count": null,
   "metadata": {},
   "outputs": [],
   "source": [
    "print(len(data_co['date'].value_counts()), '일치 데이터', sep='')   # 2달치 데이터 2023.07-08\n",
    "print(format(len(data_co), ','), '행 데이터', sep='')"
   ]
  },
  {
   "cell_type": "code",
   "execution_count": null,
   "metadata": {},
   "outputs": [],
   "source": [
    "temp = data_co.loc[~data_co['keyword2'].str.contains('z플립4|플립4', na=False), 'keyword2'].value_counts()  # z플립4 검색어 제외한 코어커런스 데이터\n",
    "pd.DataFrame(temp).head(100)    # 상위 100개"
   ]
  },
  {
   "cell_type": "code",
   "execution_count": null,
   "metadata": {},
   "outputs": [],
   "source": [
    "# 연령대 정제\n",
    "data_co['age2'] = data_co['age'].apply(lambda x: '-18' if x in ['12','13-18']\n",
    "                                       else '19-29' if x in ['19-24','25-29']\n",
    "                                       else '30-39' if x in ['30-34','35-39']\n",
    "                                       else '40-49' if x in ['40-44','45-49']\n",
    "                                       else '50-')"
   ]
  },
  {
   "cell_type": "code",
   "execution_count": null,
   "metadata": {},
   "outputs": [],
   "source": []
  },
  {
   "cell_type": "markdown",
   "metadata": {},
   "source": [
    "### 1. 성-연령별 코어커런스 검색어"
   ]
  },
  {
   "cell_type": "code",
   "execution_count": null,
   "metadata": {},
   "outputs": [],
   "source": [
    "\"\"\"20대 여성의 코어커런스 검색어\"\"\"\n",
    "temp = data_co.loc[(~data_co['keyword2'].str.contains('z플립4', na=False))&\n",
    "                   (data_co['gender']=='f')&\n",
    "                   (data_co['age2']=='19-29'), 'keyword2'].value_counts()\n",
    "pd.DataFrame(temp).head(50)"
   ]
  },
  {
   "cell_type": "code",
   "execution_count": null,
   "metadata": {},
   "outputs": [],
   "source": [
    "\"\"\"30대 남성의 코어커런스 검색어\"\"\"\n",
    "temp = data_co.loc[(~data_co['keyword2'].str.contains('z플립4', na=False))&\n",
    "                   (data_co['gender']=='m')&\n",
    "                   (data_co['age2']=='30-39'), 'keyword2'].value_counts()\n",
    "pd.DataFrame(temp).head(50)"
   ]
  },
  {
   "cell_type": "markdown",
   "metadata": {},
   "source": [
    "### 2.  z플립4 포함 코어커런스 검색어\n",
    "- 함께 검색한 검색어 + 클릭한 area 집계"
   ]
  },
  {
   "cell_type": "code",
   "execution_count": null,
   "metadata": {},
   "outputs": [],
   "source": [
    "data_co['count'] = pd.to_numeric(data_co['count'], errors='coerce')\n",
    "temp = data_co.groupby(by=['keyword1','area1','keyword2',' area2'])['count'].sum().reset_index()\n",
    "\n",
    "# keyword1, keyword2의 모든 조합에 대해 count를 sum\n",
    "temp.drop(temp[temp['count'] <= 100].index, inplace=True)   # 용량 다운사이징 >> 100번 이하의 조합은 제거"
   ]
  },
  {
   "cell_type": "code",
   "execution_count": null,
   "metadata": {},
   "outputs": [],
   "source": [
    "# z플립4 포함된 코어커런스 검색어 상위 200개\n",
    "print(temp.shape)\n",
    "temp.sort_values(by='count', ascending=False).head(200)"
   ]
  },
  {
   "cell_type": "code",
   "execution_count": null,
   "metadata": {},
   "outputs": [],
   "source": [
    "# print된 상위 200개 keyword1 각각에 대해 상위 100개의 keyword2 도출\n",
    "temp2 = temp.sort_values(by='count', ascending=False).head(200)\n",
    "print(set(temp2['keyword1']))\n",
    "temp[temp['keyword1'].isin(set(temp2['keyword1']))]\\\n",
    "                    .groupby('keyword1')\\\n",
    "                    .apply(lambda x: x.sort_values(by='count', ascending=False)[:-5])"
   ]
  },
  {
   "cell_type": "code",
   "execution_count": null,
   "metadata": {},
   "outputs": [],
   "source": []
  }
 ],
 "metadata": {
  "kernelspec": {
   "display_name": "Python 3",
   "language": "python",
   "name": "python3"
  },
  "language_info": {
   "codemirror_mode": {
    "name": "ipython",
    "version": 3
   },
   "file_extension": ".py",
   "mimetype": "text/x-python",
   "name": "python",
   "nbconvert_exporter": "python",
   "pygments_lexer": "ipython3",
   "version": "3.10.11"
  }
 },
 "nbformat": 4,
 "nbformat_minor": 2
}
