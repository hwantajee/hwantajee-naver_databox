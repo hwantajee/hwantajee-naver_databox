{
 "cells": [
  {
   "cell_type": "code",
   "execution_count": 1,
   "metadata": {},
   "outputs": [],
   "source": [
    "import os\n",
    "import pandas as pd\n",
    "from tqdm import tqdm_notebook as tn\n",
    "import matplotlib.pyplot as plt\n",
    "import seaborn as sns; sns.set()\n",
    "import glob\n",
    "pd.options.display.max_columns=100\n",
    "pd.options.display.max_rows=300\n",
    "from datetime import datetime\n",
    "import numpy as np"
   ]
  },
  {
   "cell_type": "markdown",
   "metadata": {},
   "source": [
    "### 검색클릭 데이터 분석"
   ]
  },
  {
   "cell_type": "code",
   "execution_count": null,
   "metadata": {},
   "outputs": [],
   "source": [
    "\"\"\"검색클릭 데이터 로드\"\"\"\n",
    "df = pd.read_csv('/home/ncp/workspace/nasw2/23y2h_sf_sc.csv')\n",
    "                #  names=['user','age','loc1','loc2','keyword','area','count','date','hour','device','gender'])     # read_csv 오류 시 사용"
   ]
  },
  {
   "cell_type": "code",
   "execution_count": null,
   "metadata": {},
   "outputs": [],
   "source": [
    "df.head()"
   ]
  },
  {
   "cell_type": "code",
   "execution_count": null,
   "metadata": {},
   "outputs": [],
   "source": [
    "\"\"\"전처리1\"\"\"\n",
    "df.reset_index(inpalce=True)\n",
    "df = df.iloc[:,2:-1]        # 쓸모없는 열 삭제\n",
    "# df.columns = list(df.iloc[0,:])     # 컬럼 설정\n",
    "# df = df.iloc[1:,:]        # 첫번째 행 삭제\n",
    "df.head()"
   ]
  },
  {
   "cell_type": "code",
   "execution_count": null,
   "metadata": {},
   "outputs": [],
   "source": [
    "df.columns"
   ]
  },
  {
   "cell_type": "code",
   "execution_count": null,
   "metadata": {},
   "outputs": [],
   "source": [
    "\"\"\"전처리2\"\"\"\n",
    "df.columns = [str(col).strip() for col in df.columns]       # 컬럼명 앞뒤 공백 삭제\n",
    "for col in df.columns:\n",
    "    df[col] = df[col].apply(lambda x: x.strip() if isinstance(x, str) else x)       # 데이터 값 내 공백 삭제\n",
    "for col in df.columns:\n",
    "    df.drop(df[df[col]==col].index, inplace=True)         # 행 내 컬럼명 들어있는 행 삭제\n",
    "df.columns = [col.split('.')[1] for col in df.columns]      # 컬럼명에 붙어있는 데이터명 삭제\n",
    "df['date'] = pd.to_datetime(df['date'], errors='coerce')    # 날짜 형식으로 변경\n",
    "df['count']=df['count'].apply(lambda x: int(x) if isinstance(x, str) and x.isdigit() else np.nan)       # count 변수를 object에서 int로 변경"
   ]
  },
  {
   "cell_type": "code",
   "execution_count": null,
   "metadata": {},
   "outputs": [],
   "source": [
    "df.columns"
   ]
  },
  {
   "cell_type": "code",
   "execution_count": null,
   "metadata": {},
   "outputs": [],
   "source": [
    "df.head()"
   ]
  },
  {
   "cell_type": "code",
   "execution_count": null,
   "metadata": {},
   "outputs": [],
   "source": [
    "print(len(df['date'].value_counts()), '일치 데이터', sep='')      # 1달치 데이터 (23년 12월 01~31일)\n",
    "print(format(len(df),','), '행 데이터', sep='')"
   ]
  },
  {
   "cell_type": "code",
   "execution_count": null,
   "metadata": {},
   "outputs": [],
   "source": [
    "\"\"\"연령대 정제\"\"\"\n",
    "df['age2'] = df['age'].apply(lambda x: '-18' if x in ['-12','13-18']\n",
    "                             else '19-29' if x in ['19-24','25-29']\n",
    "                             else '30-39' if x in ['30-34','35-39']\n",
    "                             else '40-49' if x in ['40-44','45-49']\n",
    "                             else '50-')"
   ]
  },
  {
   "cell_type": "code",
   "execution_count": null,
   "metadata": {},
   "outputs": [],
   "source": [
    "\"\"\"키워드 필터링\"\"\"\n",
    "df1 = df[df['keyword'].isin(['kodex200'])]"
   ]
  },
  {
   "cell_type": "code",
   "execution_count": null,
   "metadata": {},
   "outputs": [],
   "source": [
    "print('#KODEX200 절대량')\n",
    "print(format(df1['count'].sum(),','))\n",
    "print('----------------------------------------')"
   ]
  },
  {
   "cell_type": "code",
   "execution_count": null,
   "metadata": {},
   "outputs": [],
   "source": [
    "\"\"\"20대 여자 <KODEX200> 클릭영역 탑 10\"\"\"\n",
    "print('#20대 여자 KODEX200 클릭영역 탑 10')\n",
    "tmp = pd.DataFrame(round(df1[(df1['gender']=='f')&(df1['age2'].isin(['19-29']))]\n",
    "                         .groupby(by=['area'])['count'].sum()/\n",
    "                         df1.loc[(df1['gender']=='f')&(df1['age2'].isin(['19-29'])), 'count'].sum(),2)).reset_index()     # 성/연령 나눈 비율\n",
    "print(tmp.sort_values(by='count', ascending=False)[:10])\n",
    "print('----------------------------------------')\n",
    "\n",
    "\"\"\"30대 여자 <KODEX200> 클릭영역 탑 10\"\"\"\n",
    "print('#30대 여자 KODEX200 클릭영역 탑 10')\n",
    "tmp1 = pd.DataFrame(round(df1[(df1['gender']=='f')&(df1['age2'].isin(['30-39']))]\n",
    "                         .groupby(by=['area'])['count'].sum()/\n",
    "                         df1.loc[(df1['gender']=='f')&(df1['age2'].isin(['30-39'])), 'count'].sum(),2)).reset_index()     # 성/연령 나눈 비율\n",
    "print(tmp1.sort_values(by='count', ascending=False)[:10])\n",
    "print('----------------------------------------')\n",
    "\n",
    "\"\"\"40대 여자 <KODEX200> 클릭영역 탑 10\"\"\"\n",
    "print('#40대 여자 KODEX200 클릭영역 탑 10')\n",
    "tmp2 = pd.DataFrame(round(df1[(df1['gender']=='f')&(df1['age2'].isin(['40-49']))]\n",
    "                         .groupby(by=['area'])['count'].sum()/\n",
    "                         df1.loc[(df1['gender']=='f')&(df1['age2'].isin(['40-49'])), 'count'].sum(),2)).reset_index()     # 성/연령 나눈 비율\n",
    "print(tmp2.sort_values(by='count', ascending=False)[:10])\n",
    "print('----------------------------------------')\n",
    "\n",
    "\"\"\"50대 여자 <KODEX200> 클릭영역 탑 10\"\"\"\n",
    "print('#50대 여자 KODEX200 클릭영역 탑 10')\n",
    "tmp3 = pd.DataFrame(round(df1[(df1['gender']=='f')&(df1['age2'].isin(['50-']))]\n",
    "                         .groupby(by=['area'])['count'].sum()/\n",
    "                         df1.loc[(df1['gender']=='f')&(df1['age2'].isin(['50-'])), 'count'].sum(),2)).reset_index()     # 성/연령 나눈 비율\n",
    "print(tmp3.sort_values(by='count', ascending=False)[:10])\n"
   ]
  },
  {
   "cell_type": "code",
   "execution_count": null,
   "metadata": {},
   "outputs": [],
   "source": [
    "\"\"\"20대 남자 <KODEX200> 클릭영역 탑 10\"\"\"\n",
    "print('#20대 남자 KODEX200 클릭영역 탑 10')\n",
    "tmp4 = pd.DataFrame(round(df1[(df1['gender']=='m')&(df1['age2'].isin(['19-29']))]\n",
    "                         .groupby(by=['area'])['count'].sum()/\n",
    "                         df1.loc[(df1['gender']=='m')&(df1['age2'].isin(['19-29'])), 'count'].sum(),2)).reset_index()     # 성/연령 나눈 비율\n",
    "print(tmp4.sort_values(by='count', ascending=False)[:10])\n",
    "print('----------------------------------------')\n",
    "\n",
    "\"\"\"30대 남자 <KODEX200> 클릭영역 탑 10\"\"\"\n",
    "print('#30대 남자 KODEX200 클릭영역 탑 10')\n",
    "tmp5 = pd.DataFrame(round(df1[(df1['gender']=='m')&(df1['age2'].isin(['30-39']))]\n",
    "                         .groupby(by=['area'])['count'].sum()/\n",
    "                         df1.loc[(df1['gender']=='m')&(df1['age2'].isin(['30-39'])), 'count'].sum(),2)).reset_index()     # 성/연령 나눈 비율\n",
    "print(tmp5.sort_values(by='count', ascending=False)[:10])\n",
    "print('----------------------------------------')\n",
    "\n",
    "\"\"\"40대 남자 <KODEX200> 클릭영역 탑 10\"\"\"\n",
    "print('#40대 남자 KODEX200 클릭영역 탑 10')\n",
    "tmp6 = pd.DataFrame(round(df1[(df1['gender']=='m')&(df1['age2'].isin(['40-49']))]\n",
    "                         .groupby(by=['area'])['count'].sum()/\n",
    "                         df1.loc[(df1['gender']=='m')&(df1['age2'].isin(['40-49'])), 'count'].sum(),2)).reset_index()     # 성/연령 나눈 비율\n",
    "print(tmp6.sort_values(by='count', ascending=False)[:10])\n",
    "print('----------------------------------------')\n",
    "\n",
    "\"\"\"50대 남자 <KODEX200> 클릭영역 탑 10\"\"\"\n",
    "print('#50대 남자 KODEX200 클릭영역 탑 10')\n",
    "tmp7 = pd.DataFrame(round(df1[(df1['gender']=='m')&(df1['age2'].isin(['50-']))]\n",
    "                         .groupby(by=['area'])['count'].sum()/\n",
    "                         df1.loc[(df1['gender']=='m')&(df1['age2'].isin(['50-'])), 'count'].sum(),2)).reset_index()     # 성/연령 나눈 비율\n",
    "print(tmp7.sort_values(by='count', ascending=False)[:10])\n"
   ]
  },
  {
   "cell_type": "markdown",
   "metadata": {},
   "source": [
    "### 검색코어커런스 데이터 분석"
   ]
  },
  {
   "cell_type": "code",
   "execution_count": null,
   "metadata": {},
   "outputs": [],
   "source": [
    "\"\"\"코어커런스 데이터 로드\"\"\"\n",
    "data = pd.read_csv('/home/ncp/workspace/naws2/23y2h_sf_cc.csv')\n",
    "                   # names=['a','age','loc1','loc2','keyword1','area1','keyword2','area2','count','date','device','gender','b','c'])"
   ]
  },
  {
   "cell_type": "code",
   "execution_count": null,
   "metadata": {},
   "outputs": [],
   "source": [
    "data.head(10)"
   ]
  },
  {
   "cell_type": "code",
   "execution_count": null,
   "metadata": {},
   "outputs": [],
   "source": [
    "\"\"\"전처리1\"\"\"\n",
    "data.reset_index(inplace=True)\n",
    "data = data.iloc[:,1:-1]                # 쓸모없는 열 삭제\n",
    "# data.columns = list(data.iloc[0,:])     # 컬럼 설정\n",
    "# data = data.iloc[1:,:]                  # 첫번재 행 삭제\n",
    "# data.reset_index(drop=True, inplace=True)\n",
    "data.head()"
   ]
  },
  {
   "cell_type": "code",
   "execution_count": null,
   "metadata": {},
   "outputs": [],
   "source": [
    "data.columns"
   ]
  },
  {
   "cell_type": "code",
   "execution_count": null,
   "metadata": {},
   "outputs": [],
   "source": [
    "\"\"\"전처리2\"\"\"\n",
    "data.columns = [str(col).strip() for col in data.columns]       # 컬럼명 앞뒤 공백 삭제\n",
    "for col in data.columns:\n",
    "    data[col] = data[col].apply(lambda x: x.strip() if isinstance(x, str) else x)       # 데이터 값 앞뒤 공백 삭제\n",
    "for col in data.columns:\n",
    "    data.drop(data[data[col]==col].index, inplace=True)         # 행 내 컬럼명 들어있는 행 삭제\n",
    "data.columns = [col.split('.')[1] for col in data.columns]      # 컬럼명에 붙어있는 데이터명 삭제\n",
    "data['date'] = pd.to_datetime(data['date'], errors='coerce')    # 날짜 형식으로 변경\n",
    "data['count']=data['count'].apply(lambda x: int(x) if isinstance(x, str) and x.isdigit() else np.nan)       # count 변수를 object에서 int로 변경"
   ]
  },
  {
   "cell_type": "code",
   "execution_count": null,
   "metadata": {},
   "outputs": [],
   "source": [
    "data.columns"
   ]
  },
  {
   "cell_type": "code",
   "execution_count": null,
   "metadata": {},
   "outputs": [],
   "source": [
    "data.head()"
   ]
  },
  {
   "cell_type": "code",
   "execution_count": null,
   "metadata": {},
   "outputs": [],
   "source": [
    "print(len(data['date'].value_counts()), '일치 데이터', sep='')      # 1달치 데이터 (23년 12월 01~31일)\n",
    "print(format(len(data),','), '행 데이터', sep='')"
   ]
  },
  {
   "cell_type": "code",
   "execution_count": null,
   "metadata": {},
   "outputs": [],
   "source": [
    "# \"\"\"<kodex200> 검색어를 제외한 코어커런스 검색어\"\"\"\n",
    "# temp = data.loc[~data['keyword2'].str.contains('kodex200', na=False), 'keyword2'].value_counts()\n",
    "# pd.DataFrame(temp).head(100)"
   ]
  },
  {
   "cell_type": "code",
   "execution_count": null,
   "metadata": {},
   "outputs": [],
   "source": [
    "\"\"\"동일한 코어커런스 데이터(keyword2) groupby 합계 탑200\"\"\"\n",
    "temp2 = data.groupby(by=['keyword2'])['count'].sum().reset_index()\n",
    "temp2.drop(temp2[temp2['count'] <= 100].index, inplace=True)       # 용량 reduction을 위해 100번 미만의 조합은 삭제\n",
    "(temp2.shape)\n",
    "temp2 = temp2.sort_values(by='count', ascending=False)\n",
    "temp2.head(200)"
   ]
  },
  {
   "cell_type": "code",
   "execution_count": null,
   "metadata": {},
   "outputs": [],
   "source": []
  },
  {
   "cell_type": "code",
   "execution_count": null,
   "metadata": {},
   "outputs": [],
   "source": []
  },
  {
   "cell_type": "code",
   "execution_count": null,
   "metadata": {},
   "outputs": [],
   "source": []
  },
  {
   "cell_type": "code",
   "execution_count": null,
   "metadata": {},
   "outputs": [],
   "source": []
  }
 ],
 "metadata": {
  "kernelspec": {
   "display_name": "Python 3",
   "language": "python",
   "name": "python3"
  },
  "language_info": {
   "codemirror_mode": {
    "name": "ipython",
    "version": 3
   },
   "file_extension": ".py",
   "mimetype": "text/x-python",
   "name": "python",
   "nbconvert_exporter": "python",
   "pygments_lexer": "ipython3",
   "version": "3.10.11"
  }
 },
 "nbformat": 4,
 "nbformat_minor": 2
}
