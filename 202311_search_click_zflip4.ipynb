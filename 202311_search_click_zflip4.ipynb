{
 "cells": [
  {
   "cell_type": "code",
   "execution_count": 1,
   "metadata": {},
   "outputs": [],
   "source": [
    "import pandas as pd\n",
    "import matplotlib.pyplot as plt\n",
    "import seaborn as sns; sns.set()\n",
    "pd.options.display.max_columns=100\n",
    "pd.options.display.max_rows=300\n",
    "import numpy as np"
   ]
  },
  {
   "cell_type": "markdown",
   "metadata": {},
   "source": [
    "### z플립4% 서치클릭 프로 데이터 불러오기 및 전처리"
   ]
  },
  {
   "cell_type": "code",
   "execution_count": null,
   "metadata": {},
   "outputs": [],
   "source": [
    "\"\"\"데이터 불러오기\"\"\"\n",
    "data=pd.read_csv('/home/ncp/workspace/nasw2/20231129_22y2h_sc_%z플립%.csv')"
   ]
  },
  {
   "cell_type": "code",
   "execution_count": null,
   "metadata": {},
   "outputs": [],
   "source": [
    "data.head()"
   ]
  },
  {
   "cell_type": "code",
   "execution_count": null,
   "metadata": {},
   "outputs": [],
   "source": [
    "\"\"\"전처리1\"\"\"\n",
    "data.reset_index(inplace=True)\n",
    "data=data.iloc[:,2:-1]  # 필요없는 열 삭제\n",
    "# data.columns=list(data.iloc[0,:]) # 컬럼 설정\n",
    "# data=data.iloc[1:,:]  # 첫번째 행 삭제"
   ]
  },
  {
   "cell_type": "code",
   "execution_count": null,
   "metadata": {},
   "outputs": [],
   "source": [
    "data.head()"
   ]
  },
  {
   "cell_type": "code",
   "execution_count": null,
   "metadata": {},
   "outputs": [],
   "source": [
    "\"\"\"전처리2\"\"\"\n",
    "data.columns = [str(col).strip() for col in data.columns]   # 컬럼명 앞뒤 공백 삭제\n",
    "for col in data.columns:\n",
    "    data[col] = data[col].apply(lambda x: x.strip() if isinstance(x, str) else x)   # 내용 앞뒤 공백 삭제\n",
    "for col in data.columns:\n",
    "    data.drop(data[data[col]==col].index, inplace=True) # 컬럼명과 동일한 행 삭제\n",
    "data.columns = [col.split('.')[1] for col in data.columns]  # 컬럼명에 병합되어 있는 데이터명 삭제\n",
    "data['date']=pd.to_datetime(data['date'], errors='coerce')  # 날짜 형식 변경\n",
    "data['count']=data['count'].apply(lambda x: int(x) if isinstance(x, str) and x.isdigit() else np.nan)   # count 변수 (object::int)"
   ]
  },
  {
   "cell_type": "code",
   "execution_count": null,
   "metadata": {},
   "outputs": [],
   "source": [
    "data.columns"
   ]
  },
  {
   "cell_type": "code",
   "execution_count": null,
   "metadata": {},
   "outputs": [],
   "source": [
    "data.head()"
   ]
  },
  {
   "cell_type": "code",
   "execution_count": null,
   "metadata": {},
   "outputs": [],
   "source": [
    "print(len(data['date'].value_counts()), '일치 데이터', sep='')  # 2주치 데이터\n",
    "print(format(len(data), ','),'행 데이터', sep='')"
   ]
  },
  {
   "cell_type": "markdown",
   "metadata": {},
   "source": [
    "### topic1. 브랜드 검색 분석 (search_click)\n",
    "#### 1.1 고객 특징 분석"
   ]
  },
  {
   "cell_type": "code",
   "execution_count": null,
   "metadata": {},
   "outputs": [],
   "source": [
    "# 연령대 정제\n",
    "data['age2'] = data['age'].apply(lambda x: '-18' if x in ['12','13-18']\n",
    "                                       else '19-29' if x in ['19-24','25-29']\n",
    "                                       else '30-39' if x in ['30-34','35-39']\n",
    "                                       else '40-49' if x in ['40-44','45-49']\n",
    "                                       else '50-')"
   ]
  },
  {
   "cell_type": "code",
   "execution_count": null,
   "metadata": {},
   "outputs": [],
   "source": [
    "# %z플립%\n",
    "data\n",
    "\n",
    "# z플립4\n",
    "data_z4 = data[data['keyword'].isin(['z플립4'])]"
   ]
  },
  {
   "cell_type": "code",
   "execution_count": null,
   "metadata": {},
   "outputs": [],
   "source": [
    "\"\"\"절대량 비교\"\"\"\n",
    "print('##z플립 절대량')\n",
    "print(format(data['count'].sum(), ','))\n",
    "print('------------------------------')     # 978,104 행\n",
    "\n",
    "\"\"\"절대량 비교\"\"\"\n",
    "print('##z플립4 절대량')\n",
    "print(format(data_z4['count'].sum(), ','))\n",
    "print('------------------------------')     # 25,361 행"
   ]
  },
  {
   "cell_type": "code",
   "execution_count": null,
   "metadata": {},
   "outputs": [],
   "source": [
    "\"\"\"z플립 검색 남녀 비율\"\"\"\n",
    "print('##z플립 검색한 남녀 비율')\n",
    "print(round(data_z4.groupby(by='gender')['count'].sum()/data_z4['count'].sum(), 2))\n",
    "print('------------------------------')    "
   ]
  },
  {
   "cell_type": "code",
   "execution_count": null,
   "metadata": {},
   "outputs": [],
   "source": [
    "print(round(data.groupby(by='age2')['count'].sum()/data['count'].sum(),2))     \n",
    "print(round(data_z4.groupby(by='age2')['count'].sum()/data['count'].sum(),2))   \n",
    "#원형으로 나타내기\n",
    "plt.rc(\"font\", family=\"NanumGothicCoding\")\n",
    "sns.set(font=\"NanumGothicCoding\", rc={\"axes.unicode_minus\":False}, style='darkgrid')\n",
    "top_pie = round(data.groupby(by='age2')['count'].sum()/data['count'].sum(),2) \n",
    "top_pie.plot(kind='pie', autopct='%2.f%%', figsize=(5,5), fontsize=15, title='전체 %갤럭시z플립4% 연령대별 검색')\n",
    "plt.show()\n",
    "\n",
    "plt.rc(\"font\", family = \"NanumGothicCoding\")\n",
    "sns.set(font=\"NanumGothicCoding\", rc={\"axes.unicode_minus\":False}, style='darkgrid')\n",
    "top_pie=round(data_z4.groupby(by='age2')['count'].sum()/data_z4['count'].sum(),2)\n",
    "top_pie.plot(kind='pie', autopct='%2.f%%', figsize=(5,5), fontsize=15, title='전체 갤럭시z플립4 연령대별 검색')\n",
    "plt.show()"
   ]
  },
  {
   "cell_type": "code",
   "execution_count": null,
   "metadata": {},
   "outputs": [],
   "source": [
    "\"\"\"성-연령별 절대량\"\"\"\n",
    "print(\"z플립4 성-연령별 검색 절대량\")\n",
    "tmp = pd.DataFrame(round(data.groupby(by=['gender', 'age2'])['count'].sum())).reset_index()\n",
    "print(tmp.pivot(index='gender', columns='age2'))\n",
    "print('------------------------------')"
   ]
  },
  {
   "cell_type": "code",
   "execution_count": null,
   "metadata": {},
   "outputs": [],
   "source": [
    "\"\"\"성-연령별 비율 (전체비율 기준)\"\"\"\n",
    "print(\"z플립4 성-연령별 검색 비율\")\n",
    "tmp = pd.DataFrame(round(data.groupby(by=['gender', 'age2'])['count'].sum())).reset_index()\n",
    "print(tmp.pivot(index='gender', columns='age2'))\n",
    "print('------------------------------')"
   ]
  },
  {
   "cell_type": "code",
   "execution_count": null,
   "metadata": {},
   "outputs": [],
   "source": [
    "\"\"\"국내 지역 비율\"\"\"\n",
    "print(round(data.groupby(by='loc1')['count'].sum()/data['count'].sum(),2))\n",
    "\n",
    "# 원형으로 나타내기\n",
    "plt.rc(\"font\", family = \"NanumGothicCoding\")\n",
    "sns.set(font=\"NanumGothicCoding\", rc={\"axes.unicode_minus\":False}, style='darkgrid')\n",
    "top_pie=round(data.groupby(by='loc1')['count'].sum()/data['count'].sum(),2)\n",
    "top_pie.plot(kind='pie', autopct='%2.f%%', figsize=(5,5), fontsize=15, title='전체 갤럭시z플립4 연령대별 검색')\n",
    "plt.show()"
   ]
  },
  {
   "cell_type": "markdown",
   "metadata": {},
   "source": [
    "#### 1.2 고객 행동 분석"
   ]
  },
  {
   "cell_type": "code",
   "execution_count": null,
   "metadata": {},
   "outputs": [],
   "source": [
    "\"\"\"검색클릭영역 전체 비율\"\"\"\n",
    "print(\"갤럭시z플립4 지역 비율\")\n",
    "tmp = pd.DataFrame(round(data_z4.groupby(by=['area'])['count'].sum()/data_z4['count'].sum(),2)).reset_index()\n",
    "tmp = tmp.sort_values(by='count', ascending=False)\n",
    "print(tmp)\n",
    "print('------------------------------')"
   ]
  },
  {
   "cell_type": "code",
   "execution_count": null,
   "metadata": {},
   "outputs": [],
   "source": [
    "\"\"\"성-연령별 검색클릭 영역 분석: 여성\"\"\"\n",
    "# 성-연령별로 나눈 비율\n",
    "\n",
    "print(\"#10대 여자 갤럭시z플립4 클릭영역 탑 10\")\n",
    "tmp = pd.DataFrame(round(data_z4[(data_z4['gender']=='f')&(data_z4['age2'].isin(['-18']))]\n",
    "                         .groupby(by=['area'])['count'].sum()/\n",
    "                         data_z4.loc[(data_z4['gender']=='f')&(data_z4['age2'].isin(['-18'])),'count'].sum(),2)).reset_index()\n",
    "print(tmp.sort_values(by='count', ascending=False)[:10])\n",
    "print('------------------------------')\n",
    "\n",
    "print(\"#20대 여자 갤럭시z플립4 클릭영역 탑 10\")\n",
    "tmp = pd.DataFrame(round(data_z4[(data_z4['gender']=='f')&(data_z4['age2'].isin(['19-29']))]\n",
    "                         .groupby(by=['area'])['count'].sum()/\n",
    "                         data_z4.loc[(data_z4['gender']=='f')&(data_z4['age2'].isin(['19-29'])),'count'].sum(),2)).reset_index()\n",
    "print(tmp.sort_values(by='count', ascending=False)[:10])\n",
    "print('------------------------------')\n",
    "\n",
    "\n",
    "print(\"#30대 여자 갤럭시z플립4 클릭영역 탑 10\")\n",
    "tmp = pd.DataFrame(round(data_z4[(data_z4['gender']=='f')&(data_z4['age2'].isin(['30-39']))]\n",
    "                         .groupby(by=['area'])['count'].sum()/\n",
    "                         data_z4.loc[(data_z4['gender']=='f')&(data_z4['age2'].isin(['30-39'])),'count'].sum(),2)).reset_index()\n",
    "print(tmp.sort_values(by='count', ascending=False)[:10])\n",
    "print('------------------------------')\n",
    "\n",
    "\n",
    "print(\"#40대 여자 갤럭시z플립4 클릭영역 탑 10\")\n",
    "tmp = pd.DataFrame(round(data_z4[(data_z4['gender']=='f')&(data_z4['age2'].isin(['40-49']))]\n",
    "                         .groupby(by=['area'])['count'].sum()/\n",
    "                         data_z4.loc[(data_z4['gender']=='f')&(data_z4['age2'].isin(['40-49'])),'count'].sum(),2)).reset_index()\n",
    "print(tmp.sort_values(by='count', ascending=False)[:10])\n",
    "print('------------------------------')\n",
    "\n",
    "\n",
    "print(\"#50대 이상 여자 갤럭시z플립4 클릭영역 탑 10\")\n",
    "tmp = pd.DataFrame(round(data_z4[(data_z4['gender']=='f')&(data_z4['age2'].isin(['50-']))]\n",
    "                         .groupby(by=['area'])['count'].sum()/\n",
    "                         data_z4.loc[(data_z4['gender']=='f')&(data_z4['age2'].isin(['50-'])),'count'].sum(),2)).reset_index()\n",
    "print(tmp.sort_values(by='count', ascending=False)[:10])\n",
    "print('------------------------------')\n"
   ]
  },
  {
   "cell_type": "code",
   "execution_count": null,
   "metadata": {},
   "outputs": [],
   "source": [
    "\"\"\"성-연령별 검색클릭 영역 분석: 남성\"\"\"\n",
    "# 성-연령별로 나눈 비율\n",
    "\n",
    "print(\"#10대 남자 갤럭시z플립4 클릭영역 탑 10\")\n",
    "tmp = pd.DataFrame(round(data_z4[(data_z4['gender']=='m')&(data_z4['age2'].isin(['-18']))]\n",
    "                         .groupby(by=['area'])['count'].sum()/\n",
    "                         data_z4.loc[(data_z4['gender']=='m')&(data_z4['age2'].isin(['-18'])),'count'].sum(),2)).reset_index()\n",
    "print(tmp.sort_values(by='count', ascending=False)[:10])\n",
    "print('------------------------------')\n",
    "\n",
    "print(\"#20대 남자 갤럭시z플립4 클릭영역 탑 10\")\n",
    "tmp = pd.DataFrame(round(data_z4[(data_z4['gender']=='m')&(data_z4['age2'].isin(['19-29']))]\n",
    "                         .groupby(by=['area'])['count'].sum()/\n",
    "                         data_z4.loc[(data_z4['gender']=='m')&(data_z4['age2'].isin(['19-29'])),'count'].sum(),2)).reset_index()\n",
    "print(tmp.sort_values(by='count', ascending=False)[:10])\n",
    "print('------------------------------')\n",
    "\n",
    "\n",
    "print(\"#30대 남자 갤럭시z플립4 클릭영역 탑 10\")\n",
    "tmp = pd.DataFrame(round(data_z4[(data_z4['gender']=='m')&(data_z4['age2'].isin(['30-39']))]\n",
    "                         .groupby(by=['area'])['count'].sum()/\n",
    "                         data_z4.loc[(data_z4['gender']=='m')&(data_z4['age2'].isin(['30-39'])),'count'].sum(),2)).reset_index()\n",
    "print(tmp.sort_values(by='count', ascending=False)[:10])\n",
    "print('------------------------------')\n",
    "\n",
    "\n",
    "print(\"#40대 남자 갤럭시z플립4 클릭영역 탑 10\")\n",
    "tmp = pd.DataFrame(round(data_z4[(data_z4['gender']=='m')&(data_z4['age2'].isin(['40-49']))]\n",
    "                         .groupby(by=['area'])['count'].sum()/\n",
    "                         data_z4.loc[(data_z4['gender']=='m')&(data_z4['age2'].isin(['40-49'])),'count'].sum(),2)).reset_index()\n",
    "print(tmp.sort_values(by='count', ascending=False)[:10])\n",
    "print('------------------------------')\n",
    "\n",
    "\n",
    "print(\"#50대 이상 남자 갤럭시z플립4 클릭영역 탑 10\")\n",
    "tmp = pd.DataFrame(round(data_z4[(data_z4['gender']=='m')&(data_z4['age2'].isin(['50-']))]\n",
    "                         .groupby(by=['area'])['count'].sum()/\n",
    "                         data_z4.loc[(data_z4['gender']=='m')&(data_z4['age2'].isin(['50-'])),'count'].sum(),2)).reset_index()\n",
    "print(tmp.sort_values(by='count', ascending=False)[:10])\n",
    "print('------------------------------')\n"
   ]
  },
  {
   "cell_type": "markdown",
   "metadata": {},
   "source": [
    "#### 1.3 제품 검색량 추이"
   ]
  },
  {
   "cell_type": "code",
   "execution_count": null,
   "metadata": {},
   "outputs": [],
   "source": [
    "\"\"\"\"전체 검색량 추이\"\"\"\n",
    "fig, ax=plt.subplots(figsize=(10,10))\n",
    "\n",
    "line, = ax.plot(data.groupby(by=['date'])['count'].sum())"
   ]
  },
  {
   "cell_type": "code",
   "execution_count": null,
   "metadata": {},
   "outputs": [],
   "source": [
    "\"\"\"\"z플립4 검색량 추이\"\"\"\n",
    "fig, ax=plt.subplots(figsize=(10,10))\n",
    "\n",
    "line, = ax.plot(data_z4.groupby(by=['date'])['count'].sum())"
   ]
  },
  {
   "cell_type": "code",
   "execution_count": null,
   "metadata": {},
   "outputs": [],
   "source": [
    "\"\"\"Z플립4 일별 검색량 합계\"\"\"\n",
    "result = data_z4.groupby(by=['date'])['count'].sum()\n",
    "result"
   ]
  },
  {
   "cell_type": "markdown",
   "metadata": {},
   "source": [
    "#### 1.4 연관 검색어 분석"
   ]
  },
  {
   "cell_type": "code",
   "execution_count": null,
   "metadata": {},
   "outputs": [],
   "source": [
    "\"\"\"z플립4 연관 검색어 분석\"\"\"\n",
    "temp = data.groupby(by=['data','keyword'])['count'].sum().reset_index()\n",
    "\n",
    "# keyword1, keyword2의 모든 조합에 대한 count를 sum\n",
    "temp.drop(temp[temp['count']<=10].index, inplace=True)      # 용량 다운사이징: 10번 이하의 조합은 삭제\n",
    "temp = temp[temp['keyword'].str.contains('z플립4')]         # view 'z플립4' related only\n",
    "temp = temp.sort_values(by=['date','count'], ascending=[True,False])\n",
    "\n",
    "# temp.to_csv('/home/ncp/workspace/nasw2/22y2h_sc_z플립4_연관검색어.csv', encoding='utf-8-sig')\n",
    "\n",
    "temp.head()"
   ]
  },
  {
   "cell_type": "markdown",
   "metadata": {},
   "source": [
    "#### 1.5 고객 니즈 분석\n",
    "- note: TF 서버 내 워드클라우드 패키지 인스톨되어 있지 않아서 사용x"
   ]
  },
  {
   "cell_type": "code",
   "execution_count": null,
   "metadata": {},
   "outputs": [],
   "source": [
    "\"\"\"전체 데이터 %z플립%에서 검색한 키워드\"\"\"\n",
    "pd.DataFrame(data['keyword'].value_counts()).head(200)"
   ]
  },
  {
   "cell_type": "code",
   "execution_count": null,
   "metadata": {},
   "outputs": [],
   "source": [
    "\"\"\"10대 여성이 검색한 키워드 목록\"\"\"\n",
    "print(pd.DataFrame(data.loc[(data['age2'].isin(['-18'])) & (data['gender']=='f'), 'keyword'].value_counts()).head(200))"
   ]
  },
  {
   "cell_type": "code",
   "execution_count": null,
   "metadata": {},
   "outputs": [],
   "source": [
    "\"\"\"20대 여성이 검색한 키워드 목록\"\"\"\n",
    "print(pd.DataFrame(data.loc[(data['age2'].isin(['19-29'])) & (data['gender']=='f'), 'keyword'].value_counts()).head(200))"
   ]
  },
  {
   "cell_type": "code",
   "execution_count": null,
   "metadata": {},
   "outputs": [],
   "source": [
    "\"\"\"30대 여성이 검색한 키워드 목록\"\"\"\n",
    "print(pd.DataFrame(data.loc[(data['age2'].isin(['30-39'])) & (data['gender']=='f'), 'keyword'].value_counts()).head(200))"
   ]
  },
  {
   "cell_type": "code",
   "execution_count": null,
   "metadata": {},
   "outputs": [],
   "source": [
    "\"\"\"40대 여성이 검색한 키워드 목록\"\"\"\n",
    "print(pd.DataFrame(data.loc[(data['age2'].isin(['40-49'])) & (data['gender']=='f'), 'keyword'].value_counts()).head(200))"
   ]
  },
  {
   "cell_type": "code",
   "execution_count": null,
   "metadata": {},
   "outputs": [],
   "source": [
    "\"\"\"50대 이상 여성이 검색한 키워드 목록\"\"\"\n",
    "print(pd.DataFrame(data.loc[(data['age2'].isin(['50-'])) & (data['gender']=='f'), 'keyword'].value_counts()).head(200))"
   ]
  },
  {
   "cell_type": "code",
   "execution_count": null,
   "metadata": {},
   "outputs": [],
   "source": [
    "\"\"\"10대 남성이 검색한 키워드 목록\"\"\"\n",
    "print(pd.DataFrame(data.loc[(data['age2'].isin(['-18'])) & (data['gender']=='m'), 'keyword'].value_counts()).head(200))"
   ]
  },
  {
   "cell_type": "code",
   "execution_count": null,
   "metadata": {},
   "outputs": [],
   "source": [
    "\"\"\"20대 남성이 검색한 키워드 목록\"\"\"\n",
    "print(pd.DataFrame(data.loc[(data['age2'].isin(['19-29'])) & (data['gender']=='m'), 'keyword'].value_counts()).head(200))"
   ]
  },
  {
   "cell_type": "code",
   "execution_count": null,
   "metadata": {},
   "outputs": [],
   "source": [
    "\"\"\"30대 남성이 검색한 키워드 목록\"\"\"\n",
    "print(pd.DataFrame(data.loc[(data['age2'].isin(['30-39'])) & (data['gender']=='m'), 'keyword'].value_counts()).head(200))"
   ]
  },
  {
   "cell_type": "code",
   "execution_count": null,
   "metadata": {},
   "outputs": [],
   "source": [
    "\"\"\"40대 남성이 검색한 키워드 목록\"\"\"\n",
    "print(pd.DataFrame(data.loc[(data['age2'].isin(['40-49'])) & (data['gender']=='m'), 'keyword'].value_counts()).head(200))"
   ]
  },
  {
   "cell_type": "code",
   "execution_count": null,
   "metadata": {},
   "outputs": [],
   "source": [
    "\"\"\"50대 이상 남성이 검색한 키워드 목록\"\"\"\n",
    "print(pd.DataFrame(data.loc[(data['age2'].isin(['50-'])) & (data['gender']=='m'), 'keyword'].value_counts()).head(200))"
   ]
  },
  {
   "cell_type": "code",
   "execution_count": null,
   "metadata": {},
   "outputs": [],
   "source": [
    "\"\"\"z플립4 성-연령별 검색 절대값\"\"\"\n",
    "tmp123 = pd.DataFrame(round(data.groupby(by=['area','gender','age2'])['count'].sum())).reset_index()    # 성-연령별로 나눈 비율\n",
    "tmp123.pivot(index=['area','gender'], columns = 'age2')"
   ]
  }
 ],
 "metadata": {
  "kernelspec": {
   "display_name": "Python 3",
   "language": "python",
   "name": "python3"
  },
  "language_info": {
   "codemirror_mode": {
    "name": "ipython",
    "version": 3
   },
   "file_extension": ".py",
   "mimetype": "text/x-python",
   "name": "python",
   "nbconvert_exporter": "python",
   "pygments_lexer": "ipython3",
   "version": "3.10.11"
  }
 },
 "nbformat": 4,
 "nbformat_minor": 2
}
